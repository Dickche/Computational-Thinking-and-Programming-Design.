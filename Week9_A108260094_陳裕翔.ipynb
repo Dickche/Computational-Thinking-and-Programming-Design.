{
  "nbformat": 4,
  "nbformat_minor": 0,
  "metadata": {
    "colab": {
      "name": "Week9-A108260094_陳裕翔.ipynb",
      "provenance": [],
      "collapsed_sections": [],
      "include_colab_link": true
    },
    "kernelspec": {
      "name": "python3",
      "display_name": "Python 3"
    }
  },
  "cells": [
    {
      "cell_type": "markdown",
      "metadata": {
        "id": "view-in-github",
        "colab_type": "text"
      },
      "source": [
        "<a href=\"https://colab.research.google.com/github/Dickche/Computational-Thinking-and-Programming-Design./blob/master/Week9_A108260094_%E9%99%B3%E8%A3%95%E7%BF%94.ipynb\" target=\"_parent\"><img src=\"https://colab.research.google.com/assets/colab-badge.svg\" alt=\"Open In Colab\"/></a>"
      ]
    },
    {
      "cell_type": "code",
      "metadata": {
        "id": "MdOGrL3Fam5X",
        "colab_type": "code",
        "colab": {}
      },
      "source": [
        "score = int(input('請輸入成績'))\n",
        "if score >= 60:\n",
        "    print('Well done')"
      ],
      "execution_count": 0,
      "outputs": []
    },
    {
      "cell_type": "code",
      "metadata": {
        "id": "Q8grPBiPeOXE",
        "colab_type": "code",
        "colab": {}
      },
      "source": [
        "x = int(input('請輸入成績'))\n",
        "if x >= 60:\n",
        "    print('Well done')\n",
        "else:\n",
        "    print('加油')"
      ],
      "execution_count": 0,
      "outputs": []
    },
    {
      "cell_type": "code",
      "metadata": {
        "id": "631EdDqeeo0d",
        "colab_type": "code",
        "outputId": "0e1d2617-f9a7-47f0-f489-7caa19b5f6ec",
        "colab": {
          "base_uri": "https://localhost:8080/",
          "height": 51
        }
      },
      "source": [
        "y =int(input('請輸入成績'))\n",
        "if y >= 80:\n",
        "    print('非常好')\n",
        "elif y >= 60:\n",
        "    print('還可以')\n",
        "else:\n",
        "    print('請加油')"
      ],
      "execution_count": 0,
      "outputs": [
        {
          "output_type": "stream",
          "text": [
            "請輸入成績59\n",
            "請加油\n"
          ],
          "name": "stdout"
        }
      ]
    },
    {
      "cell_type": "code",
      "metadata": {
        "id": "A2tDG0Y8g7IV",
        "colab_type": "code",
        "colab": {}
      },
      "source": [
        "x = float(input('請輸入X座標'))y = float(input('請輸入Y座標'))\n",
        "if (x> 0):\n",
        "  if (y > 0):\n",
        "    print('為第一象限')\n",
        "  else:\n",
        "    print('為第四象限')\n",
        "else:\n",
        "  if (y > 0):\n",
        "    print('為第二象限')\n",
        "  else:\n",
        "    print('為第三象限')"
      ],
      "execution_count": 0,
      "outputs": []
    }
  ]
}