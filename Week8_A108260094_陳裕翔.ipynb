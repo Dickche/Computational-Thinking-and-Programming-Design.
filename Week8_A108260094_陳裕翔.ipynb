{
  "nbformat": 4,
  "nbformat_minor": 0,
  "metadata": {
    "colab": {
      "name": "Week8-A108260094-陳裕翔.ipynb",
      "provenance": [],
      "include_colab_link": true
    },
    "kernelspec": {
      "name": "python3",
      "display_name": "Python 3"
    }
  },
  "cells": [
    {
      "cell_type": "markdown",
      "metadata": {
        "id": "view-in-github",
        "colab_type": "text"
      },
      "source": [
        "<a href=\"https://colab.research.google.com/github/Dickche/Computational-Thinking-and-Programming-Design./blob/master/Week8_A108260094_%E9%99%B3%E8%A3%95%E7%BF%94.ipynb\" target=\"_parent\"><img src=\"https://colab.research.google.com/assets/colab-badge.svg\" alt=\"Open In Colab\"/></a>"
      ]
    },
    {
      "cell_type": "code",
      "metadata": {
        "id": "3s200MdCcIa-",
        "colab_type": "code",
        "colab": {}
      },
      "source": [
        "s = input('輸入一串英文句子')\n",
        "s1 = s.split(' ')\n",
        "print('將英文句子以空白字元切割後，獲得單字為',s1)\n",
        "s2 = ' '.join(s1)\n",
        "print('以空白字元結合所有單字後，獲得句子為',s2)\n",
        "s3 = s.title()\n",
        "print('將每個單字字首轉大寫後，獲得句子為',s3)"
      ],
      "execution_count": 0,
      "outputs": []
    },
    {
      "cell_type": "code",
      "metadata": {
        "id": "XYSQlO-rhWAq",
        "colab_type": "code",
        "colab": {}
      },
      "source": [
        ""
      ],
      "execution_count": 0,
      "outputs": []
    }
  ]
}